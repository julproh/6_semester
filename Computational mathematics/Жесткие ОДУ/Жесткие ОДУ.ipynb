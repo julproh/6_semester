{
 "cells": [
  {
   "cell_type": "markdown",
   "metadata": {},
   "source": [
    "### Решение модельного уравнения"
   ]
  },
  {
   "cell_type": "markdown",
   "metadata": {},
   "source": [
    "Необходимо решить модельное уравнение:\n",
    "$$\n",
    "\\begin{align}\n",
    "\\label{eq:dalq}\n",
    "u'(t) = \\lambda u(t)\n",
    "\\end{align}\n",
    "$$\n",
    "с начальным условием $u(0) = 1$ с помошью явного и неявного метода Эйлера. Считать, что $\\lambda = -200$. Провести расчеты на сетке с числом узлов $N = 1001; 101; 100$. Построить графики решения на одном рисунке, объяснить результат. А именно объяснить, что мы видим на графике для каждого случая, какое это имеет отношение к А-устойчивости, почему именно так. Если поведение графиков отличается, объяснить чем вызвано отличие."
   ]
  },
  {
   "cell_type": "code",
   "execution_count": 16,
   "metadata": {},
   "outputs": [
    {
     "data": {
      "text/plain": [
       "(0.0, 0.1, -1.1, 1.1)"
      ]
     },
     "execution_count": 16,
     "metadata": {},
     "output_type": "execute_result"
    },
    {
     "data": {
      "image/png": "[encoded data removed]",
      "text/plain": [
       "<Figure size 432x288 with 1 Axes>"
      ]
     },
     "metadata": {
      "needs_background": "light"
     },
     "output_type": "display_data"
    }
   ],
   "source": [
    "%matplotlib inline\n",
    "import numpy as np\n",
    "import matplotlib.pyplot as plt\n",
    "\n",
    "#для модельного уравнения\n",
    "#explicit Euler method\n",
    "def ex_euler(u, l, h, N):\n",
    "    for i in range(0, N-1):\n",
    "        u[i+1] = (1+l*h)*u[i]\n",
    "\n",
    "#implicit  Euler method      \n",
    "def im_euler(u, l, h, N):\n",
    "    for i in range(0, N-1):\n",
    "        # TODO : реализуйте неявный метод Эйлера для модельного уравнения\n",
    "        skip\n",
    "\n",
    "T = 1 # считае до этого момента\n",
    "N = 1001\n",
    "h = T/(N-1)\n",
    "x = np.linspace(0,T,N) # сетка\n",
    "x_teor = np.linspace(0,T,(N-1)*100+1) # сетка для точного решения\n",
    "l = -200\n",
    "\n",
    "u = np.zeros(N)\n",
    "u[0] = 1 #начальное условие\n",
    "ex_euler(u, l, h, N)\n",
    "#im_euler(u, l, h, N)\n",
    "\n",
    "plt.plot(x_teor, np.exp(l*x_teor), linewidth=5.0, label='exact')\n",
    "plt.plot(x, u, 'ro', label='euler')\n",
    "plt.legend()\n",
    "plt.axis([0, 0.1, -1.1, 1.1])"
   ]
  },
  {
   "cell_type": "markdown",
   "metadata": {},
   "source": [
    "### L-устойчивость"
   ]
  },
  {
   "cell_type": "markdown",
   "metadata": {},
   "source": [
    "Рассматриваем задачу $u' = l(u-cos(t)) - sin(t)$. Для начального условия $u(0) = 1$ решение $u(t) = cos(t)$. Для начального условия  $u(0) = g$ решение $u(t) = e^{lt}(g-1) + cos(t)$. Решите задачу на сетке с шагом $h = 0.1$ для начального условия $u(0) = 1$ и $u(0) = 1.5$ методом Эйлера и методом трапеции. В качестве решения постройте две картинки для разных начальных условий. На каждой картинке должно быть два графика для каждого из методов и сравнение с точным решением. Объясните получившиеся результаты. Как они согласуются с теорией? При чем тут L-устойчивость? \n",
    "\n",
    "Метод трапеции $$ \\frac{u_{n+1} - u_n}{h} = \\frac{f(t_n, u_n)+f(t_{n+1}, u_{n+1})}{2}. $$\n"
   ]
  },
  {
   "cell_type": "code",
   "execution_count": 4,
   "metadata": {},
   "outputs": [
    {
     "data": {
      "text/plain": [
       "[<matplotlib.lines.Line2D at 0x274c949a048>,\n",
       " <matplotlib.lines.Line2D at 0x274c949a198>]"
      ]
     },
     "execution_count": 4,
     "metadata": {},
     "output_type": "execute_result"
    },
    {
     "data": {
      "image/png": "[encoded data removed]",
      "text/plain": [
       "<Figure size 432x288 with 1 Axes>"
      ]
     },
     "metadata": {
      "needs_background": "light"
     },
     "output_type": "display_data"
    }
   ],
   "source": [
    "%matplotlib inline\n",
    "import numpy as np\n",
    "import matplotlib.pyplot as plt\n",
    "\n",
    "#implicit  Euler method      \n",
    "def im_euler(u, l, h, N):\n",
    "    for i in range(0, N-1):\n",
    "        # TODO : реализуйте неявный метод Эйлера для рассматриваемой задачи\n",
    "        skip\n",
    "\n",
    "#trapezoidal method\n",
    "def trapezoidal(u, l, h, N):\n",
    "    for i in range(0, N-1):\n",
    "        free = l*(np.cos((i+1)*h)+np.cos(i*h))+(np.sin((i+1)*h)+np.sin(i*h))\n",
    "        u[i+1] = (u[i]*(1+l*h/2)-h/2*free)/(1-l*h/2)\n",
    "\n",
    "T = 3\n",
    "N = 31\n",
    "h = T/(N-1)\n",
    "x_teor = np.linspace(0,T,(N-1)*100+1) \n",
    "x = np.linspace(0,T,N)\n",
    "l = -1e6\n",
    "\n",
    "u = np.zeros(N)\n",
    "#initial condition\n",
    "u[0] = 1\n",
    "#u[0] = 1.5\n",
    "\n",
    "#method\n",
    "#im_euler(u, l, h, N)\n",
    "trapezoidal(u, l, h, N)\n",
    "\n",
    "# TODO: добавьте легенду на графики\n",
    "plt.plot(x_teor, np.cos(x_teor),  x, u, '-ro', linewidth=5.0)"
   ]
  },
  {
   "cell_type": "code",
   "execution_count": null,
   "metadata": {},
   "outputs": [],
   "source": []
  }
 ],
 "metadata": {
  "anaconda-cloud": {},
  "kernelspec": {
   "display_name": "Python 3",
   "language": "python",
   "name": "python3"
  },
  "language_info": {
   "codemirror_mode": {
    "name": "ipython",
    "version": 3
   },
   "file_extension": ".py",
   "mimetype": "text/x-python",
   "name": "python",
   "nbconvert_exporter": "python",
   "pygments_lexer": "ipython3",
   "version": "3.6.5"
  }
 },
 "nbformat": 4,
 "nbformat_minor": 1
}
